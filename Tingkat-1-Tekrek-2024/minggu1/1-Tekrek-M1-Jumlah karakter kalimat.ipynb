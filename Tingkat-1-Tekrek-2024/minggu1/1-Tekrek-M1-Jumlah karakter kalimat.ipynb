{
 "cells": [
  {
   "cell_type": "markdown",
   "metadata": {},
   "source": [
    "## Menemukan panjang kalimat dengan python "
   ]
  },
  {
   "cell_type": "markdown",
   "metadata": {},
   "source": [
    "---"
   ]
  },
  {
   "cell_type": "markdown",
   "metadata": {},
   "source": [
    "Di bawah ini adalah contoh program dengan bahasa pemrograman Python versi 3 untuk menemukan panjang karakter pada sebuah kata ataupun kalimat. Program ini akan menghitung jumlah seluruh karakter termasuk spasi dan karakter khusus lainnya."
   ]
  },
  {
   "cell_type": "markdown",
   "metadata": {},
   "source": [
    "Contoh :\n",
    "```\n",
    "Input : 'abc'\n",
    "Output : 3\n",
    "\n",
    "Input : 'hello world !'\n",
    "Output : 13\n",
    "\n",
    "Input : ' h e l   l  o '\n",
    "Output :14\n",
    "```"
   ]
  },
  {
   "cell_type": "markdown",
   "metadata": {},
   "source": [
    "### Programs :"
   ]
  },
  {
   "cell_type": "markdown",
   "metadata": {},
   "source": [
    "Tahap pertama untuk membuat program ini adalah dengan menentukan kalimat yang ingin di cari jumlahnya, lalu dimasukkan ke dalam variabel dengan nama `word`."
   ]
  },
  {
   "cell_type": "code",
   "execution_count": 1,
   "metadata": {},
   "outputs": [],
   "source": [
    "word = \"Hallo dunia\""
   ]
  },
  {
   "cell_type": "markdown",
   "metadata": {},
   "source": [
    "Selanjutnya pada program ini digunakan metode perulangan atau iterasi untuk menghitung jumlah karakter yang ada pada variabel `word` satu persatu dan dimasukkan ke dalam variabel `jumlah`."
   ]
  },
  {
   "cell_type": "code",
   "execution_count": 2,
   "metadata": {},
   "outputs": [],
   "source": [
    "def HitungKalimat(kalimat): \n",
    "    jumlah = 0    \n",
    "    for i in kalimat: \n",
    "        jumlah += 1\n",
    "    return jumlah"
   ]
  },
  {
   "cell_type": "markdown",
   "metadata": {},
   "source": [
    "Tahap terakhir adalah dengan memanggil fungsi yang sudau dibuat di atas dengan menggunakan variabel `word` sebagai nilai input nya."
   ]
  },
  {
   "cell_type": "code",
   "execution_count": 4,
   "metadata": {},
   "outputs": [
    {
     "name": "stdout",
     "output_type": "stream",
     "text": [
      "Terdapat 11 karakter\n"
     ]
    }
   ],
   "source": [
    "print(\"Terdapat\", HitungKalimat(word), \"karakter\")"
   ]
  }
 ],
 "metadata": {
  "kernelspec": {
   "display_name": "Python 3",
   "language": "python",
   "name": "python3"
  },
  "language_info": {
   "codemirror_mode": {
    "name": "ipython",
    "version": 3
   },
   "file_extension": ".py",
   "mimetype": "text/x-python",
   "name": "python",
   "nbconvert_exporter": "python",
   "pygments_lexer": "ipython3",
   "version": "3.6.9"
  }
 },
 "nbformat": 4,
 "nbformat_minor": 4
}

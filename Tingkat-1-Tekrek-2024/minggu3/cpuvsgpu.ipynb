import time
import cupy as cp
import numpy as np

A = time.time()
B = np.array(
[[3, 4],
[2, 1]])
C = (B.transpose)   
D = time.time()
E = D - A
print("Waktu CPU :", E , "detik")

F = time.time()
G = np.array(
[[3, 4],
[2, 1]])
H = (G.transpose)   
cp.cuda.Stream.null.synchronize()
I = time.time()
J = I - F
print("Waktu GPU :", J , "detik")

K = J - E
print("Perbandingan Waktu :", K , "detik")
print("================ GPU DI KURANGI WAKTU CPU ================")

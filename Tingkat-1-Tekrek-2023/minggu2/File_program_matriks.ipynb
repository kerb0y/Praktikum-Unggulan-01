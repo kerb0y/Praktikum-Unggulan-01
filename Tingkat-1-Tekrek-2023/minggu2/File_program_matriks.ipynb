{
  "cells": [
    {
      "cell_type": "markdown",
      "metadata": {
        "id": "nJF8z-dJ4eGN"
      },
      "source": [
        "## Python Matriks dan NumPy Array"
      ]
    },
    {
      "cell_type": "markdown",
      "metadata": {
        "id": "9rNS6Lb64eGP"
      },
      "source": [
        "---"
      ]
    },
    {
      "cell_type": "markdown",
      "metadata": {
        "id": "YN9uO9vu4eGP"
      },
      "source": [
        "Matriks adalah struktur data dua dimensi di mana angka-angka disusun menjadi baris dan kolom. Contohnya :"
      ]
    },
    {
      "cell_type": "markdown",
      "metadata": {
        "id": "ETUrs-6i4eGP"
      },
      "source": [
        "<img src=\"https://cdn.programiz.com/sites/tutorial2program/files/matrix.jpg\">"
      ]
    },
    {
      "cell_type": "markdown",
      "metadata": {
        "id": "1Qd4TV_P4eGQ"
      },
      "source": [
        "Matriks ini adalah matriks 3x4 (dibaca \"tiga kali empat\") karena memiliki 3 baris dan 4 kolom."
      ]
    },
    {
      "cell_type": "markdown",
      "metadata": {
        "id": "nNco6SDy4eGQ"
      },
      "source": [
        "### Python Matriks\n",
        "Python tidak memiliki tipe built-in untuk matriks. Namun, kita dapat memperlakukan list di dalam list sebagai matriks. Sebagai contoh:"
      ]
    },
    {
      "cell_type": "code",
      "execution_count": null,
      "metadata": {
        "id": "Fzn9fPpI4eGQ"
      },
      "outputs": [],
      "source": [
        "A = [[1, 4, 5],\n",
        "    [-5, 8, 9]]"
      ]
    },
    {
      "cell_type": "markdown",
      "metadata": {
        "id": "gVhAAVB34eGR"
      },
      "source": [
        "Kita dapat memperlakukan list ini sebagai matriks yang memiliki 2 baris dan 3 kolom.\n",
        "<img src=\"https://cdn.programiz.com/sites/tutorial2program/files/matrix-python-example.jpg\">"
      ]
    },
    {
      "cell_type": "markdown",
      "metadata": {
        "id": "7b_jhz3W4eGR"
      },
      "source": [
        "**Contoh Program**"
      ]
    },
    {
      "cell_type": "code",
      "execution_count": null,
      "metadata": {
        "id": "sMZjMETs4eGR"
      },
      "outputs": [],
      "source": [
        "A = [[1, 4, 5, 12],\n",
        "    [-5, 8, 9, 0],\n",
        "    [-6, 7, 11, 19]]"
      ]
    },
    {
      "cell_type": "markdown",
      "metadata": {
        "id": "oTAYWh7s4eGS"
      },
      "source": [
        "Untuk mencetak atau mendapatkan seluruh nilai yang ada pada matriks di atas dapa digunakan perintah :"
      ]
    },
    {
      "cell_type": "code",
      "execution_count": null,
      "metadata": {
        "colab": {
          "base_uri": "https://localhost:8080/"
        },
        "id": "5BmSsKUA4eGS",
        "outputId": "197e1ae0-e021-41a1-f84a-26792180ff26"
      },
      "outputs": [
        {
          "output_type": "stream",
          "name": "stdout",
          "text": [
            "A = [[1, 4, 5, 12], [-5, 8, 9, 0], [-6, 7, 11, 19]]\n"
          ]
        }
      ],
      "source": [
        "print(\"A =\", A)"
      ]
    },
    {
      "cell_type": "markdown",
      "metadata": {
        "id": "SeuqshT74eGS"
      },
      "source": [
        "Selain itu, kita juga dapat mendapatkan elemen tertentu dari matriks tersebut dengan cara :"
      ]
    },
    {
      "cell_type": "code",
      "execution_count": null,
      "metadata": {
        "colab": {
          "base_uri": "https://localhost:8080/"
        },
        "id": "9r04B--N4eGS",
        "outputId": "72bff533-62f6-494b-8582-db9cf1d6308e"
      },
      "outputs": [
        {
          "output_type": "stream",
          "name": "stdout",
          "text": [
            "A[1] = [-5, 8, 9, 0]\n",
            "A[1][2] = 9\n",
            "A[0][-1] = 12\n"
          ]
        }
      ],
      "source": [
        "print(\"A[1] =\", A[1])      # Baris ke-2\n",
        "\n",
        "print(\"A[1][2] =\", A[1][2])   # Elemen ke-3 dari baris ke-2\n",
        "\n",
        "print(\"A[0][-1] =\", A[0][-1])   # Elemen terakhir dari Baris ke-1"
      ]
    },
    {
      "cell_type": "markdown",
      "metadata": {
        "id": "WHlFSXWj4eGS"
      },
      "source": [
        "---\n",
        "### NumPy Array\n",
        "NumPy adalah sebuah library untuk komputasi ilmiah yang memiliki dukungan untuk objek array berdimensi-N. NumPy menyediakan deretan angka multidimensi (yang sebenarnya adalah sebuah objek). Contohnya:"
      ]
    },
    {
      "cell_type": "code",
      "execution_count": null,
      "metadata": {
        "colab": {
          "base_uri": "https://localhost:8080/"
        },
        "id": "HYHeSPI64eGS",
        "outputId": "526147b5-9840-4ed2-9547-32bcbc371522"
      },
      "outputs": [
        {
          "output_type": "stream",
          "name": "stdout",
          "text": [
            "[1 2 3]\n",
            "<class 'numpy.ndarray'>\n"
          ]
        }
      ],
      "source": [
        "import numpy as np\n",
        "\n",
        "a = np.array([1, 2, 3])\n",
        "\n",
        "print(a)\n",
        "\n",
        "print(type(a))"
      ]
    },
    {
      "cell_type": "markdown",
      "metadata": {
        "id": "GhJjjY8d4eGT"
      },
      "source": [
        "Seperti yang Anda lihat, kelas array NumPy disebut ndarray.\n",
        "\n",
        "---\n",
        "\n",
        "### Bagaimana cara membuat array NumPy?\n",
        "Ada beberapa cara untuk membuat array NumPy.\n",
        "\n",
        "1. Array bilangan bulat, float dan Bilangan kompleks"
      ]
    },
    {
      "cell_type": "code",
      "execution_count": null,
      "metadata": {
        "colab": {
          "base_uri": "https://localhost:8080/"
        },
        "id": "1KsRn-Tu4eGT",
        "outputId": "0c72bdea-5e6b-46cf-9522-71e6a49daa98"
      },
      "outputs": [
        {
          "output_type": "stream",
          "name": "stdout",
          "text": [
            "[[1 2 3]\n",
            " [3 4 5]]\n"
          ]
        }
      ],
      "source": [
        "A = np.array([[1, 2, 3], [3, 4, 5]]) # Bilangan bulat\n",
        "print(A)"
      ]
    },
    {
      "cell_type": "code",
      "execution_count": null,
      "metadata": {
        "colab": {
          "base_uri": "https://localhost:8080/"
        },
        "id": "xyJYlp924eGU",
        "outputId": "ca63da15-ab67-4b68-b296-3f8ac20a8aff"
      },
      "outputs": [
        {
          "output_type": "stream",
          "name": "stdout",
          "text": [
            "[[1.1 2.  3. ]\n",
            " [3.  4.  5. ]]\n"
          ]
        }
      ],
      "source": [
        "A = np.array([[1.1, 2, 3], [3, 4, 5]]) # float\n",
        "print(A)"
      ]
    },
    {
      "cell_type": "code",
      "execution_count": null,
      "metadata": {
        "colab": {
          "base_uri": "https://localhost:8080/"
        },
        "id": "h173YMx94eGU",
        "outputId": "4842a7c4-3903-4c46-c39c-0bb8679b7c65"
      },
      "outputs": [
        {
          "output_type": "stream",
          "name": "stdout",
          "text": [
            "[[1.+0.j 2.+0.j 3.+0.j]\n",
            " [3.+0.j 4.+0.j 5.+0.j]]\n"
          ]
        }
      ],
      "source": [
        "A = np.array([[1, 2, 3], [3, 4, 5]], dtype = complex) # bilangan kompleks\n",
        "print(A)"
      ]
    },
    {
      "cell_type": "markdown",
      "metadata": {
        "id": "Vl1XNrBH4eGU"
      },
      "source": [
        "---\n",
        "2. Array angka nol dan satu"
      ]
    },
    {
      "cell_type": "code",
      "execution_count": null,
      "metadata": {
        "colab": {
          "base_uri": "https://localhost:8080/"
        },
        "id": "h5bhdK3B4eGU",
        "outputId": "385b5741-dd69-428b-b2e6-79bef7ef24a7"
      },
      "outputs": [
        {
          "output_type": "stream",
          "name": "stdout",
          "text": [
            "[[0. 0. 0.]\n",
            " [0. 0. 0.]]\n"
          ]
        }
      ],
      "source": [
        "zeroes_array = np.zeros( (2, 3) )\n",
        "print(zeroes_array)"
      ]
    },
    {
      "cell_type": "markdown",
      "metadata": {
        "id": "02EtJrFu4eGU"
      },
      "source": [
        "Selain itu, kita juga dapat menetapkan `dtype` menjadi 32 bit (4 byte). Karenanya, array ini dapat mengambil nilai dari <code>-2<sup>-31</sup></code> hingga <code>2<sup>-31</sup>-1</code>."
      ]
    },
    {
      "cell_type": "code",
      "execution_count": null,
      "metadata": {
        "colab": {
          "base_uri": "https://localhost:8080/"
        },
        "id": "meflP22O4eGU",
        "outputId": "db20d9b3-6f69-4699-8b03-28117e4eea8a"
      },
      "outputs": [
        {
          "output_type": "stream",
          "name": "stdout",
          "text": [
            "[[1 1 1 1 1]]\n"
          ]
        }
      ],
      "source": [
        "ones_array = np.ones( (1, 5), dtype=np.int32 ) # menentukan dtype\n",
        "print(ones_array)"
      ]
    },
    {
      "cell_type": "markdown",
      "metadata": {
        "id": "3Qo0Do-24eGV"
      },
      "source": [
        "---\n",
        "\n",
        "### Operasi Matriks\n",
        "\n",
        "Pada contoh program selanjutnya akan dibuat 3 jenis program yaitu : penjumlahan dua buah matriks, perkalian dua buah matriks dan transpos sebuah matriks. Jika menggunakan program python biasa, kita memerlukan `nested lists` untuk membuat program tersebut. Namun ada cara yang lebih baik yaitu menggunakan library NumPy.\n",
        "\n",
        "#### Penambahan Dua Matriks\n",
        "\n",
        "<img src=\"https://i1.faceprep.in/Companies-1/matrix-addition-in-python.png\" width=\"35%\">\n",
        "Kita dapat menggunakan operator `+` untuk menambahkan elemen yang sesuai dari dua matriks NumPy."
      ]
    },
    {
      "cell_type": "code",
      "execution_count": null,
      "metadata": {
        "colab": {
          "base_uri": "https://localhost:8080/"
        },
        "id": "bfyk1IOo4eGV",
        "outputId": "b3046cff-3992-48c3-be56-a1ebc2a681c8"
      },
      "outputs": [
        {
          "output_type": "stream",
          "name": "stdout",
          "text": [
            "[[4 9]\n",
            " [5 8]]\n"
          ]
        }
      ],
      "source": [
        "A = np.array(\n",
        "    [[3, 4],\n",
        "     [2, 1]])\n",
        "\n",
        "B = np.array(\n",
        "    [[1, 5],\n",
        "     [3, 7]])\n",
        "\n",
        "C = A + B\n",
        "\n",
        "print(C)"
      ]
    },
    {
      "cell_type": "markdown",
      "metadata": {
        "id": "Rz_snz6g4eGV"
      },
      "source": [
        "---\n",
        "#### Perkalian Dua Matriks\n",
        "\n",
        "<img src=\"https://i1.faceprep.in/Companies-1/matrix-multiplication-in-python.png\" width=\"40%\">\n",
        "Untuk mengalikan dua matriks, kita menggunakan metode `dot()`.\n",
        "\n",
        "**Catatan**: `*` digunakan untuk perkalian array (perkalian elemen yang sesuai dari dua array) bukan perkalian matriks."
      ]
    },
    {
      "cell_type": "code",
      "execution_count": null,
      "metadata": {
        "colab": {
          "base_uri": "https://localhost:8080/"
        },
        "id": "12RRpKfn4eGV",
        "outputId": "ef048581-cfb8-4044-caa1-550dcc9fa10e"
      },
      "outputs": [
        {
          "output_type": "stream",
          "name": "stdout",
          "text": [
            "[[15 43]\n",
            " [ 5 17]]\n"
          ]
        }
      ],
      "source": [
        "A = np.array(\n",
        "    [[3, 4],\n",
        "     [2, 1]])\n",
        "\n",
        "B = np.array(\n",
        "    [[1, 5],\n",
        "     [3, 7]])\n",
        "\n",
        "C = A.dot(B)\n",
        "\n",
        "print(C)"
      ]
    },
    {
      "cell_type": "markdown",
      "metadata": {
        "id": "BW7RMJi84eGV"
      },
      "source": [
        "---\n",
        "#### Transpos Matriks\n",
        "\n",
        "<img src=\"https://i1.faceprep.in/Companies-1/transpose-of-a-matrix-in-python.png\" width=\"35%\">\n",
        "Kita dapat menggunakan `numpy.transpose` untuk menghitung transpos matriks."
      ]
    },
    {
      "cell_type": "code",
      "execution_count": null,
      "metadata": {
        "colab": {
          "base_uri": "https://localhost:8080/"
        },
        "id": "7bhOh86D4eGV",
        "outputId": "e548d6e1-2c20-4a73-e506-97c858ab5a39"
      },
      "outputs": [
        {
          "output_type": "stream",
          "name": "stdout",
          "text": [
            "[[3 2]\n",
            " [4 1]]\n"
          ]
        }
      ],
      "source": [
        "A = np.array(\n",
        "    [[3, 4],\n",
        "     [2, 1]])\n",
        "\n",
        "print(A.transpose())"
      ]
    },
    {
      "cell_type": "markdown",
      "metadata": {
        "id": "xi3L-aE24eGW"
      },
      "source": [
        "---\n",
        "\n",
        "## Tugas\n",
        "Pada contoh program di atas, sudah di buat 3 program dengan memanfaatkan library NumPy yaitu :\n",
        "1. Penambahan dua matriks\n",
        "2. Perkalian dua matriks\n",
        "3. Transpos matriks\n",
        "\n",
        "Tugas anda adalah membuat 3 program tersebut tanpa menggunakan library NumPy.\n",
        "\n",
        "---"
      ]
    },
    {
      "cell_type": "markdown",
      "source": [
        "1) Penambahan dua matriks"
      ],
      "metadata": {
        "id": "Tj2JfvMh5Zq0"
      }
    },
    {
      "cell_type": "code",
      "source": [
        "mat1 = [\n",
        "    [16, 4],\n",
        "    [20,28],\n",
        "]\n",
        "mat2 = [\n",
        "    [24,28],\n",
        "    [32,36],\n",
        "]\n",
        "\n",
        "for x in range(0, len(mat1)):\n",
        "  for y in range(0, len(mat1[0])):\n",
        "    print (mat1[x][y] + mat2[x][y], end=' '),\n",
        "  print"
      ],
      "metadata": {
        "colab": {
          "base_uri": "https://localhost:8080/"
        },
        "id": "t-_YMajq5dk6",
        "outputId": "86156ba9-a4a5-43ba-cc67-25bc5e576368"
      },
      "execution_count": null,
      "outputs": [
        {
          "output_type": "stream",
          "name": "stdout",
          "text": [
            "40 32 52 64 "
          ]
        }
      ]
    },
    {
      "cell_type": "markdown",
      "source": [
        "2) Perkalian dua matriks"
      ],
      "metadata": {
        "id": "Trmq-F0p6O0j"
      }
    },
    {
      "cell_type": "code",
      "source": [
        "mat1 = [\n",
        "    [16, 4],\n",
        "    [20, 28],\n",
        "]\n",
        "\n",
        "mat2 = [\n",
        "    [24, 28],\n",
        "    [32, 36],\n",
        "]\n",
        "\n",
        "mat3 = []\n",
        "\n",
        "for x in range(0, len(mat1)):\n",
        "    row = []\n",
        "    for y in range(0, len(mat1[0])):\n",
        "        total = 0\n",
        "        for z in range(0, len(mat1)):\n",
        "            total = total + (mat1[x][z] * mat2[z][y])\n",
        "        row.append(total)\n",
        "    mat3.append(row)\n",
        "\n",
        "\n",
        "for x in range(0, len(mat3)):\n",
        "    for y in range(0, len(mat3[0])):\n",
        "        print (mat3[x][y], end=' ')\n",
        "    print ()"
      ],
      "metadata": {
        "colab": {
          "base_uri": "https://localhost:8080/"
        },
        "id": "XgufAzHn6WBS",
        "outputId": "1b6202ac-3605-4968-8e16-cd2093188d37"
      },
      "execution_count": null,
      "outputs": [
        {
          "output_type": "stream",
          "name": "stdout",
          "text": [
            "512 592 \n",
            "1376 1568 \n"
          ]
        }
      ]
    },
    {
      "cell_type": "markdown",
      "source": [
        "3) Transpos matriks"
      ],
      "metadata": {
        "id": "7P_7ERaT6dJi"
      }
    },
    {
      "cell_type": "code",
      "source": [
        "A = [\n",
        "    [6,10],\n",
        "    [14,16],\n",
        "]\n",
        "\n",
        "result = [\n",
        "    [0,0],\n",
        "    [0,0],\n",
        "]\n",
        "\n",
        "for i in range(len(A)):\n",
        "  for j in range(len(A[0])):\n",
        "    result[j][i] = A[i][j]\n",
        "\n",
        "for r in result:\n",
        "  print(r)"
      ],
      "metadata": {
        "colab": {
          "base_uri": "https://localhost:8080/"
        },
        "id": "4NemBLPV6fch",
        "outputId": "99898ba5-034a-4d9d-c191-6430840da3c3"
      },
      "execution_count": null,
      "outputs": [
        {
          "output_type": "stream",
          "name": "stdout",
          "text": [
            "[6, 14]\n",
            "[10, 16]\n"
          ]
        }
      ]
    }
  ],
  "metadata": {
    "kernelspec": {
      "display_name": "Python 3",
      "language": "python",
      "name": "python3"
    },
    "language_info": {
      "codemirror_mode": {
        "name": "ipython",
        "version": 3
      },
      "file_extension": ".py",
      "mimetype": "text/x-python",
      "name": "python",
      "nbconvert_exporter": "python",
      "pygments_lexer": "ipython3",
      "version": "3.6.9"
    },
    "colab": {
      "provenance": []
    }
  },
  "nbformat": 4,
  "nbformat_minor": 0
}
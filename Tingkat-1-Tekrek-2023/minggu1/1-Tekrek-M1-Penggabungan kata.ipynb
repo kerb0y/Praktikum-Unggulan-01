{
 "cells": [
  {
   "cell_type": "markdown",
   "metadata": {},
   "source": [
    "## Penggabungan kata menggunakan Python "
   ]
  },
  {
   "cell_type": "markdown",
   "metadata": {},
   "source": [
    "---"
   ]
  },
  {
   "cell_type": "markdown",
   "metadata": {},
   "source": [
    "Berikut adalah program menggunakan bahasa pemrograman python versi 3 untuk menggabungkan dua kata atau lebih menjadi satu kalimat."
   ]
  },
  {
   "cell_type": "markdown",
   "metadata": {},
   "source": [
    "Contoh :\n",
    "```\n",
    "kata 1 : \"Hallo\"\n",
    "kata 2 : \"dunia\"\n",
    "hasil  : \"Hallo dunia\"\n",
    "```"
   ]
  },
  {
   "cell_type": "markdown",
   "metadata": {},
   "source": [
    "### Program :"
   ]
  },
  {
   "cell_type": "markdown",
   "metadata": {},
   "source": [
    "Tahap pertama untuk membuat program ini adalah dengan menentukan kata yang ingin digabungkan, kemudian dimasukkan ke dalam sebuah variabel."
   ]
  },
  {
   "cell_type": "code",
   "execution_count": 1,
   "metadata": {},
   "outputs": [],
   "source": [
    "kata1 = \"Hallo\"\n",
    "kata2 = \"Dunia\""
   ]
  },
  {
   "cell_type": "markdown",
   "metadata": {},
   "source": [
    "Selanjutnya dapat digunakan operasi `+` untuk menggabungkan kedua variabel tersebut. Namun jangan lupa untuk menambahkan spasi diantara kedua kata itu."
   ]
  },
  {
   "cell_type": "code",
   "execution_count": 4,
   "metadata": {},
   "outputs": [
    {
     "name": "stdout",
     "output_type": "stream",
     "text": [
      "Hallo Dunia\n"
     ]
    }
   ],
   "source": [
    "hasil = kata1 + \" \" + kata2\n",
    "\n",
    "print(hasil)"
   ]
  }
 ],
 "metadata": {
  "kernelspec": {
   "display_name": "Python 3",
   "language": "python",
   "name": "python3"
  },
  "language_info": {
   "codemirror_mode": {
    "name": "ipython",
    "version": 3
   },
   "file_extension": ".py",
   "mimetype": "text/x-python",
   "name": "python",
   "nbconvert_exporter": "python",
   "pygments_lexer": "ipython3",
   "version": "3.6.9"
  }
 },
 "nbformat": 4,
 "nbformat_minor": 4
}

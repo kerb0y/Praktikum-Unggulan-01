{
 "cells": [
  {
   "cell_type": "markdown",
   "metadata": {},
   "source": [
    "## Kemampuan CPU vs GPU "
   ]
  },
  {
   "cell_type": "markdown",
   "metadata": {},
   "source": [
    "---"
   ]
  },
  {
   "cell_type": "markdown",
   "metadata": {},
   "source": [
    "Pemrosesan data antara penggunaan CPU dan GPU sangat berbeda. Di bawah ini adalah contoh program dengan menggunakan python 3 untuk melihat perbandingan kemampuan antara penggunaan CPU dengan GPU."
   ]
  },
  {
   "cell_type": "markdown",
   "metadata": {},
   "source": [
    "<img src=\"https://graphicscompendium.com/intro/figures/cpu-vs-gpu.svg\" width=\"400\">"
   ]
  },
  {
   "cell_type": "markdown",
   "metadata": {},
   "source": [
    "### Program :"
   ]
  },
  {
   "cell_type": "markdown",
   "metadata": {},
   "source": [
    "Di bawah ini adalah contoh program python menggunakan library numpy yang memanfaatkan CPU dan juga cupy yang memanfaatkan GPU. Sementara library time digunakan untuk melakukan perhitungan waktu yang diperlukan."
   ]
  },
  {
   "cell_type": "code",
   "execution_count": 5,
   "metadata": {},
   "outputs": [],
   "source": [
    "import numpy as np\n",
    "import cupy as cp\n",
    "import time"
   ]
  },
  {
   "cell_type": "markdown",
   "metadata": {},
   "source": [
    "Kode di bawah ini membuat array 3D dengan jumlah 1 Miliar, untuk Numpy dan CuPy."
   ]
  },
  {
   "cell_type": "code",
   "execution_count": 9,
   "metadata": {},
   "outputs": [
    {
     "name": "stdout",
     "output_type": "stream",
     "text": [
      "Waktu yang diperlukan untuk CPU : 0.9179668426513672\n"
     ]
    }
   ],
   "source": [
    "### Numpy dan CPU\n",
    "s = time.time()\n",
    "x_cpu = np.ones((1000,1000,1000))\n",
    "e = time.time()\n",
    "print(\"Waktu yang diperlukan untuk CPU :\", e - s)"
   ]
  },
  {
   "cell_type": "code",
   "execution_count": 10,
   "metadata": {},
   "outputs": [
    {
     "name": "stdout",
     "output_type": "stream",
     "text": [
      "Waktu yang diperlukan untuk GPU : 0.015522956848144531\n"
     ]
    }
   ],
   "source": [
    "### CuPy dan GPU\n",
    "s = time.time()\n",
    "x_gpu = cp.ones((1000,1000,1000))\n",
    "cp.cuda.Stream.null.synchronize()\n",
    "e = time.time()\n",
    "print(\"Waktu yang diperlukan untuk GPU :\", e - s)"
   ]
  },
  {
   "cell_type": "markdown",
   "metadata": {},
   "source": [
    "Dari hasil di atas dapat dilihat perbedaan hasil kecepatan waktu antara penggunaan CPU dan GPU. Program berikutnya untuk melakukan operasi matematika terhadap array yaitu dengan mengkalikannya dengan nilai tertentu."
   ]
  },
  {
   "cell_type": "code",
   "execution_count": 11,
   "metadata": {},
   "outputs": [],
   "source": [
    "### Nilai yang akan dikalikan dengan array\n",
    "n = 5"
   ]
  },
  {
   "cell_type": "code",
   "execution_count": 12,
   "metadata": {},
   "outputs": [
    {
     "name": "stdout",
     "output_type": "stream",
     "text": [
      "Waktu yang diperlukan untuk CPU : 0.6003141403198242\n"
     ]
    }
   ],
   "source": [
    "### Numpy dan CPU\n",
    "s = time.time()\n",
    "x_cpu *= n\n",
    "e = time.time()\n",
    "print(\"Waktu yang diperlukan untuk CPU :\", e - s)"
   ]
  },
  {
   "cell_type": "code",
   "execution_count": 13,
   "metadata": {},
   "outputs": [
    {
     "name": "stdout",
     "output_type": "stream",
     "text": [
      "Waktu yang diperlukan untuk GPU : 0.2035229206085205\n"
     ]
    }
   ],
   "source": [
    "### CuPy and GPU\n",
    "s = time.time()\n",
    "x_gpu *= n\n",
    "cp.cuda.Stream.null.synchronize()\n",
    "e = time.time()\n",
    "print(\"Waktu yang diperlukan untuk GPU :\", e - s)"
   ]
  }
 ],
 "metadata": {
  "kernelspec": {
   "display_name": "Python 3",
   "language": "python",
   "name": "python3"
  },
  "language_info": {
   "codemirror_mode": {
    "name": "ipython",
    "version": 3
   },
   "file_extension": ".py",
   "mimetype": "text/x-python",
   "name": "python",
   "nbconvert_exporter": "python",
   "pygments_lexer": "ipython3",
   "version": "3.6.9"
  }
 },
 "nbformat": 4,
 "nbformat_minor": 4
}
